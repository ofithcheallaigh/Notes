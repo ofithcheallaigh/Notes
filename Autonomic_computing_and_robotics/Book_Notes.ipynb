{
 "cells": [
  {
   "cell_type": "markdown",
   "metadata": {},
   "source": [
    "# Introduction and Overview\n",
    "\n",
    "My intention is these notes will be a somewhat interactive grouping of notes related to the Autonomic Computing and Robotics module.   \n",
    "\n",
    "This should include notes from external sources as well as lecture notes"
   ]
  },
  {
   "cell_type": "markdown",
   "metadata": {},
   "source": [
    "# Book Notes from Artificial Intelligence for Robotics\n",
    "\n",
    "## Introduction\n",
    "\n",
    "### Downloads\n",
    "- The code bendle for the book is hosted on Github: https://github.com/PacktPublishing/Artificial-Intelligence-for-Robotics   \n",
    "- Link to videos of the code been run: http://bit.ly/2ohcbLg\n",
    "\n",
    "## Foundation for Advanced Robotics in AI\n",
    "The basic difference between what we call an AI robot and what is considered a more normal robot is the ability of the robot and its software to make decisions, and learn and adapt to its environment based in data from its sensors. To be more specific, **we are leaving the world of deterministics behaviours behind**. \n",
    "\n",
    "When we talk about deterministics behaviours we mean that for a set of inputs, the robot will also produce the same output. If faced with the same situation, such as encountering ab obstacle, thhen the robot will always do the same thing, such as go round the obstacle to the left.\n",
    "\n",
    "An AI robot can, however, do two things a normal robot cannot: make decisions and learn from experience. The AI robot will change and adapt to circumstances, and may do something different each time a situation is encountered.\n",
    "\n",
    "### The Basic Principle of Robotics and AI\n",
    "The traditional world of **proportional integral derivation (PID)** controllers, sensors loops, and state machines must give way to artificial neural networsk, expert systems, genetic algorithms, and searching path planners. We want a robot that does not just react to its environment as a reflex action, but has goals and intent -- and can learn and adapt to the enviornment. We want to solve problems that would be intractable or impossible otherwise."
   ]
  },
  {
   "cell_type": "markdown",
   "metadata": {},
   "source": [
    "## An Example Problem - Clean the Room\n",
    "\n",
    "This book uses one example throughout. The example will be using an AI robot to pick up items in a games room.   \n",
    "\n",
    "This problem is a close analogue to the problem Amazon has in picking items off of shelves and putting them into a box to send out to a customer.\n",
    "\n",
    "We can look at this problem and break it down. Robotics designers first start with the environment - where does the robot work? The environment can be divided into two categories:\n",
    "- structured, and\n",
    "- unstructured\n",
    "\n",
    "A **structured environment** such as a playing field for a robotics competition, an assembly line, or a lab bench, has everything in an organised space. A structured environment means that we know in advance where everything is going to be. We know what colour things are, where they are placed in space, and where they are. A name for this type of knowledge is called _prior_ knowledge -- things we know in advance. Having advanced knowledge of the environment in robotics is sometimes absolutely essential. Assembly line production are expecting parts to arrive in exactly the position and orientation to be grasped and placed into position. Essentially, we have arranged the world to suit the robot. \n",
    "\n",
    "But having advanced knowledge of a games room is not going to possible. At best, we have a set of objects that are fairly fixed -- there are only going to be so many games to play with -- the games are elements of a set of fixed objects. But they are not positioned or orientiated in a known manner -- they are where they have been left."
   ]
  },
  {
   "cell_type": "markdown",
   "metadata": {},
   "source": [
    "## AI and Advanced Robotic Techniques\n",
    "\n",
    "We start with object recognition. We need out robot to recognise objects and then classify them as either"
   ]
  }
 ],
 "metadata": {
  "kernelspec": {
   "display_name": "Python 3 (ipykernel)",
   "language": "python",
   "name": "python3"
  },
  "language_info": {
   "codemirror_mode": {
    "name": "ipython",
    "version": 3
   },
   "file_extension": ".py",
   "mimetype": "text/x-python",
   "name": "python",
   "nbconvert_exporter": "python",
   "pygments_lexer": "ipython3",
   "version": "3.10.1"
  }
 },
 "nbformat": 4,
 "nbformat_minor": 4
}
